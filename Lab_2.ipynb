{
 "cells": [
  {
   "cell_type": "code",
   "execution_count": 1,
   "metadata": {},
   "outputs": [
    {
     "name": "stdout",
     "output_type": "stream",
     "text": [
      "torch.Size([44730, 11, 40])\n",
      "torch.Size([4773, 11, 40])\n",
      "torch.Size([44730])\n",
      "torch.Size([4773])\n",
      "(48,)\n",
      "cpu\n"
     ]
    }
   ],
   "source": [
    "import numpy as np\n",
    "import torch\n",
    "import torch.nn as nn\n",
    "import torch.nn.functional as F\n",
    "import torch.optim as optim\n",
    "import torch.utils.data\n",
    "import time\n",
    "import os\n",
    "\n",
    "# Load the dataset\n",
    "data = np.load('lab2_dataset.npz')\n",
    "train_feats = torch.tensor(data['train_feats'])\n",
    "test_feats = torch.tensor(data['test_feats'])\n",
    "train_labels = torch.tensor(data['train_labels'])\n",
    "test_labels = torch.tensor(data['test_labels'])\n",
    "phone_labels = data['phone_labels']\n",
    "\n",
    "print(train_feats.shape)\n",
    "print(test_feats.shape)\n",
    "print(train_labels.shape)\n",
    "print(test_labels.shape)\n",
    "print(phone_labels.shape)\n",
    "\n",
    "device = torch.device(\"cuda:0\" if torch.cuda.is_available() else \"cpu\")\n",
    "print(device)"
   ]
  },
  {
   "cell_type": "code",
   "execution_count": 2,
   "metadata": {},
   "outputs": [],
   "source": [
    "# Set up the dataloaders\n",
    "train_dataset = torch.utils.data.TensorDataset(train_feats, train_labels)\n",
    "train_loader = torch.utils.data.DataLoader(train_dataset, batch_size=8, shuffle=True)\n",
    "\n",
    "test_dataset = torch.utils.data.TensorDataset(test_feats, test_labels)\n",
    "test_loader = torch.utils.data.DataLoader(test_dataset, batch_size=8, shuffle=False)"
   ]
  },
  {
   "cell_type": "code",
   "execution_count": 3,
   "metadata": {},
   "outputs": [
    {
     "name": "stdout",
     "output_type": "stream",
     "text": [
      "['sil' 's' 'ao' 'l' 'r' 'iy' 'vcl' 'd' 'eh' 'cl' 'p' 'ix' 'z' 'ih' 'sh'\n",
      " 'n' 'v' 'aa' 'y' 'uw' 'w' 'ey' 'dx' 'b' 'ay' 'ng' 'k' 'epi' 'ch' 'dh'\n",
      " 'er' 'en' 'g' 'aw' 'hh' 'ae' 'ow' 't' 'ax' 'm' 'zh' 'ah' 'el' 'f' 'jh'\n",
      " 'uh' 'oy' 'th']\n"
     ]
    }
   ],
   "source": [
    "print(phone_labels)"
   ]
  },
  {
   "cell_type": "code",
   "execution_count": 4,
   "metadata": {},
   "outputs": [],
   "source": [
    "# Define the model architecture\n",
    "class MyModel(nn.Module):\n",
    "    def __init__(self):\n",
    "        super(MyModel, self).__init__()\n",
    "\n",
    "\n",
    "        self.fc1 = nn.Linear(11 * 40, 1024)\n",
    "        self.fc2 = nn.Linear(1024, 1024)\n",
    "        self.fc3 = nn.Linear(1024, 1024)\n",
    "        self.fc4 = nn.Linear(1024, 512)\n",
    "        self.fc5 = nn.Linear(512, 256)\n",
    "        self.fc6 = nn.Linear(256, 128)\n",
    "        self.fc7 = nn.Linear(128, 64)\n",
    "        self.fc8 = nn.Linear(64, 48)\n",
    "\n",
    "        self.dropout = nn.Dropout(0.25)\n",
    "        \n",
    "        self.relu = nn.ReLU() # activation function\n",
    "        \n",
    "    def forward(self, x):\n",
    "        x = torch.reshape(x, (-1, 11 * 40))\n",
    "        #print(x.shape)\n",
    "        \n",
    "        x = self.fc1(x)\n",
    "        x = self.relu(x)\n",
    "        \n",
    "        x = self.fc2(x)\n",
    "        x = self.relu(x)\n",
    "\n",
    "        x = self.fc3(x)\n",
    "        x = self.relu(x)\n",
    "\n",
    "        x = self.fc4(x)\n",
    "        x = self.relu(x)\n",
    "\n",
    "        x = self.dropout(x)\n",
    "\n",
    "        x = self.fc5(x)\n",
    "        x = self.relu(x)\n",
    "\n",
    "        x = self.fc6(x)\n",
    "        x = self.relu(x)\n",
    "\n",
    "        x = self.fc7(x)\n",
    "        x = self.relu(x)\n",
    "\n",
    "        x = self.fc8(x)\n",
    "\n",
    "        return x"
   ]
  },
  {
   "cell_type": "code",
   "execution_count": 5,
   "metadata": {},
   "outputs": [
    {
     "name": "stdout",
     "output_type": "stream",
     "text": [
      "No model found\n",
      "Training model\n",
      "Epoch 1\n",
      "62.41470217704773\n",
      "Test accuracy: 30 %\n",
      "Epoch 2\n",
      "61.731407165527344\n",
      "Test accuracy: 43 %\n",
      "Epoch 3\n",
      "59.271251916885376\n",
      "Test accuracy: 43 %\n",
      "Epoch 4\n",
      "63.23592805862427\n",
      "Test accuracy: 48 %\n",
      "Epoch 5\n",
      "62.11361289024353\n",
      "Test accuracy: 51 %\n",
      "Epoch 6\n",
      "61.719362020492554\n",
      "Test accuracy: 52 %\n",
      "Epoch 7\n",
      "56.14547896385193\n",
      "Test accuracy: 54 %\n",
      "Epoch 8\n",
      "54.65034103393555\n",
      "Test accuracy: 55 %\n",
      "Epoch 9\n",
      "54.36333894729614\n",
      "Test accuracy: 57 %\n",
      "Epoch 10\n",
      "53.94810104370117\n",
      "Test accuracy: 58 %\n",
      "603.7727010250092\n",
      "Finished Training\n"
     ]
    }
   ],
   "source": [
    "# Instantiate the model, loss function, and optimizer\n",
    "model = MyModel()\n",
    "modeltrained = False\n",
    "try :\n",
    "    model.load_state_dict(torch.load('model.pt'))\n",
    "    model.eval()\n",
    "    modeltrained = True\n",
    "    print('Model loaded')\n",
    "except:\n",
    "    print('No model found')\n",
    "    pass\n",
    "criterion = nn.CrossEntropyLoss()\n",
    "optimizer = optim.SGD(model.parameters(), lr=0.001, momentum=0.9)\n",
    "\n",
    "def train_network(model, train_loader, criterion, optimizer):\n",
    "    # TODO: fill in\n",
    "    for epoch in range(10):\n",
    "        # running_loss = 0.0\n",
    "        time1 = time.time()\n",
    "        for i, (inputs, labels) in enumerate(train_loader, 0):\n",
    "            optimizer.zero_grad()\n",
    "            outputs = model(inputs)\n",
    "            loss = criterion(outputs, labels)\n",
    "            loss.backward()\n",
    "            optimizer.step()\n",
    "            # running_loss += loss.item()\n",
    "            # if i % 1000 == 999:\n",
    "            #     print('[%d, %5d] loss: %.3f' % (epoch + 1, i + 1, running_loss / 1000))\n",
    "            #     running_loss = 0.0\n",
    "            # \n",
    "        time2 = time.time()\n",
    "        print('Epoch %d' % (epoch + 1))\n",
    "        print(time2 - time1)\n",
    "        test_network(model, test_loader)\n",
    "\n",
    "\n",
    "label_acc = {}\n",
    "\n",
    "missclassifications = {}\n",
    "\n",
    "def test_network(model, test_loader):\n",
    "    correct = 0\n",
    "    total = 0\n",
    "    with torch.no_grad():\n",
    "        for data in test_loader:\n",
    "            inputs, labels = data\n",
    "            outputs = model(inputs)\n",
    "            # outputs \n",
    "            _, predicted = torch.max(outputs.data, 1)\n",
    "            total += labels.size(0)\n",
    "            correct += (predicted == labels).sum().item()\n",
    "            for i in range(len(labels)):\n",
    "                if labels[i].item() not in label_acc:\n",
    "                    label_acc[labels[i].item()] = [0, 0]\n",
    "                label_acc[labels[i].item()][1] += 1\n",
    "                if predicted[i] == labels[i]:\n",
    "                    label_acc[labels[i].item()][0] += 1\n",
    "                else:\n",
    "                    if labels[i].item() not in missclassifications:\n",
    "                        missclassifications[labels[i].item()] = {}\n",
    "                    if predicted[i].item() not in missclassifications[labels[i].item()]:\n",
    "                        missclassifications[labels[i].item()][predicted[i].item()] = 0\n",
    "                    missclassifications[labels[i].item()][predicted[i].item()] += 1\n",
    "\n",
    "\n",
    "                \n",
    "                \n",
    "    print('Test accuracy: %d %%' % (100 * correct / total))\n",
    "\n",
    "if not modeltrained:\n",
    "    print('Training model')\n",
    "    time1 = time.time()\n",
    "    train_network(model, train_loader, criterion, optimizer)\n",
    "    time2 = time.time()\n",
    "    print(time2 - time1)\n",
    "    print('Finished Training')\n",
    "    torch.save(model.state_dict(), 'model.pt')\n"
   ]
  },
  {
   "cell_type": "code",
   "execution_count": 6,
   "metadata": {},
   "outputs": [
    {
     "name": "stdout",
     "output_type": "stream",
     "text": [
      "Finished Training\n"
     ]
    }
   ],
   "source": [
    "print('Finished Training')"
   ]
  },
  {
   "cell_type": "code",
   "execution_count": 7,
   "metadata": {},
   "outputs": [
    {
     "name": "stdout",
     "output_type": "stream",
     "text": [
      "Test accuracy: 57 %\n"
     ]
    }
   ],
   "source": [
    "test_network(model, test_loader)"
   ]
  },
  {
   "cell_type": "code",
   "execution_count": 8,
   "metadata": {},
   "outputs": [
    {
     "name": "stdout",
     "output_type": "stream",
     "text": [
      "Top 5 most accurate phones:\n",
      "dx 0.8045454545454546\n",
      "sh 0.8009090909090909\n",
      "epi 0.7636363636363637\n",
      "sil 0.759090909090909\n",
      "s 0.7363636363636363\n",
      "Top 5 least accurate phones:\n",
      "uh 0.12636363636363637\n",
      "zh 0.29140722291407223\n",
      "th 0.32636363636363636\n",
      "ax 0.3463636363636364\n",
      "en 0.3663636363636364\n"
     ]
    }
   ],
   "source": [
    "# sort by accuracy\n",
    "sorted_acc = sorted(label_acc.items(), key=lambda x: x[1][0] / x[1][1], reverse=True)\n",
    "\n",
    "print(\"Top 5 most accurate phones:\")\n",
    "for i in range(5):\n",
    "    print(phone_labels[sorted_acc[i][0]], sorted_acc[i][1][0] / sorted_acc[i][1][1])\n",
    "\n",
    "print(\"Top 5 least accurate phones:\")\n",
    "\n",
    "for i in range(1, 6):\n",
    "    print(phone_labels[sorted_acc[-i][0]], sorted_acc[-i][1][0] / sorted_acc[-i][1][1])\n"
   ]
  },
  {
   "cell_type": "code",
   "execution_count": 9,
   "metadata": {},
   "outputs": [
    {
     "name": "stdout",
     "output_type": "stream",
     "text": [
      "sh is commonly misclassified as: s with 89 instances\n",
      "p is commonly misclassified as: k with 165 instances\n",
      "m is commonly misclassified as: n with 232 instances\n",
      "r is commonly misclassified as: er with 288 instances\n",
      "ae is commonly misclassified as: eh with 249 instances\n"
     ]
    }
   ],
   "source": [
    "common_missclassifications = []\n",
    "\n",
    "common_missclassifications.append(np.where(phone_labels == 'sh')[0][0])\n",
    "common_missclassifications.append(np.where(phone_labels == 'p')[0][0])\n",
    "common_missclassifications.append(np.where(phone_labels == 'm')[0][0])\n",
    "common_missclassifications.append(np.where(phone_labels == 'r')[0][0])\n",
    "common_missclassifications.append(np.where(phone_labels == 'ae')[0][0])\n",
    "\n",
    "for i in common_missclassifications:\n",
    "    sorted_miss = sorted(missclassifications[i].items(), key=lambda x: x[1], reverse=True)\n",
    "    print(phone_labels[i], \"is commonly misclassified as:\", phone_labels[sorted_miss[0][0]], \"with\", sorted_miss[0][1], \"instances\")"
   ]
  }
 ],
 "metadata": {
  "kernelspec": {
   "display_name": "tf",
   "language": "python",
   "name": "python3"
  },
  "language_info": {
   "codemirror_mode": {
    "name": "ipython",
    "version": 3
   },
   "file_extension": ".py",
   "mimetype": "text/x-python",
   "name": "python",
   "nbconvert_exporter": "python",
   "pygments_lexer": "ipython3",
   "version": "3.10.9"
  },
  "vscode": {
   "interpreter": {
    "hash": "87080e7cd9a8236934cf37ef16c9e0a38c6da99bf1ea92572cd195152db0d9e8"
   }
  }
 },
 "nbformat": 4,
 "nbformat_minor": 4
}
