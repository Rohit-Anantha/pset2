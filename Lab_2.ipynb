{
 "cells": [
  {
   "cell_type": "code",
   "execution_count": 35,
   "metadata": {},
   "outputs": [
    {
     "name": "stdout",
     "output_type": "stream",
     "text": [
      "torch.Size([44730, 11, 40])\n",
      "torch.Size([4773, 11, 40])\n",
      "torch.Size([44730])\n",
      "torch.Size([4773])\n",
      "(48,)\n"
     ]
    }
   ],
   "source": [
    "import numpy as np\n",
    "import torch\n",
    "import torch.nn as nn\n",
    "import torch.nn.functional as F\n",
    "import torch.optim as optim\n",
    "\n",
    "# Load the dataset\n",
    "data = np.load('lab2_dataset.npz')\n",
    "train_feats = torch.tensor(data['train_feats'])\n",
    "test_feats = torch.tensor(data['test_feats'])\n",
    "train_labels = torch.tensor(data['train_labels'])\n",
    "test_labels = torch.tensor(data['test_labels'])\n",
    "phone_labels = data['phone_labels']\n",
    "\n",
    "print(train_feats.shape)\n",
    "print(test_feats.shape)\n",
    "print(train_labels.shape)\n",
    "print(test_labels.shape)\n",
    "print(phone_labels.shape)\n"
   ]
  },
  {
   "cell_type": "code",
   "execution_count": 36,
   "metadata": {},
   "outputs": [],
   "source": [
    "# Set up the dataloaders\n",
    "train_dataset = torch.utils.data.TensorDataset(train_feats, train_labels)\n",
    "train_loader = torch.utils.data.DataLoader(train_dataset, batch_size=8, shuffle=True)\n",
    "\n",
    "test_dataset = torch.utils.data.TensorDataset(test_feats, test_labels)\n",
    "test_loader = torch.utils.data.DataLoader(test_dataset, batch_size=8, shuffle=False)"
   ]
  },
  {
   "cell_type": "code",
   "execution_count": 37,
   "metadata": {},
   "outputs": [],
   "source": [
    "# Define the model architecture\n",
    "class MyModel(nn.Module):\n",
    "    def __init__(self):\n",
    "        super(MyModel, self).__init__()\n",
    "\n",
    "        self.linear1 = nn.Linear(440, 800)\n",
    "        self.linear2 = nn.Linear(800, 400)\n",
    "        self.linear3 = nn.Linear(400, 200)\n",
    "        self.linear4 = nn.Linear(200, 100)\n",
    "        self.linear5 = nn.Linear(100, 50)\n",
    "        self.linear6 = nn.Linear(50, 48)\n",
    "        # self.linear2 = nn.Linear(400, 300) \n",
    "        # self.linear3 = nn.Linear(300, 200) \n",
    "        # self.linear4 = nn.Linear(200, 100) \n",
    "        # self.linear5 = nn.Linear(100, 50)\n",
    "        # self.linear6 = nn.Linear(50, 48)\n",
    "\n",
    "        self.relu = nn.ReLU() # activation function\n",
    "        \n",
    "    def forward(self, x):\n",
    "        x = torch.reshape(x, (-1, 11 * 40))\n",
    "        #print(x.shape)\n",
    "        x = self.linear1(x)\n",
    "        x = self.relu(x)\n",
    "        x = self.linear2(x)\n",
    "        x = self.relu(x)\n",
    "        x = self.linear3(x)\n",
    "        x = self.relu(x)\n",
    "        x = self.linear4(x)\n",
    "        x = self.relu(x)\n",
    "        x = self.linear5(x)\n",
    "        x = self.relu(x)\n",
    "        x = self.linear6(x)\n",
    "        \n",
    "        return x"
   ]
  },
  {
   "cell_type": "code",
   "execution_count": 38,
   "metadata": {},
   "outputs": [],
   "source": [
    "# Instantiate the model, loss function, and optimizer\n",
    "model = MyModel()\n",
    "criterion = nn.CrossEntropyLoss()\n",
    "optimizer = optim.SGD(model.parameters(), lr=0.001, momentum=0.9)\n",
    "\n",
    "def train_network(model, train_loader, criterion, optimizer):\n",
    "    # TODO: fill in\n",
    "    for epoch in range(10):\n",
    "        # running_loss = 0.0\n",
    "        for i, (inputs, labels) in enumerate(train_loader, 0):\n",
    "            optimizer.zero_grad()\n",
    "            outputs = model(inputs)\n",
    "            loss = criterion(outputs, labels)\n",
    "            loss.backward()\n",
    "            optimizer.step()\n",
    "            # running_loss += loss.item()\n",
    "            # if i % 1000 == 999:\n",
    "            #     print('[%d, %5d] loss: %.3f' % (epoch + 1, i + 1, running_loss / 1000))\n",
    "            #     running_loss = 0.0\n",
    "            # \n",
    "        test_network(model, test_loader)\n",
    "\n",
    "def test_network(model, test_loader):\n",
    "    correct = 0\n",
    "    total = 0\n",
    "    with torch.no_grad():\n",
    "        for data in test_loader:\n",
    "            inputs, labels = data\n",
    "            outputs = model(inputs)\n",
    "            _, predicted = torch.max(outputs.data, 1)\n",
    "            total += labels.size(0)\n",
    "            correct += (predicted == labels).sum().item()\n",
    "    print('Test accuracy: %d %%' % (100 * correct / total))\n",
    "\n"
   ]
  },
  {
   "cell_type": "code",
   "execution_count": 39,
   "metadata": {},
   "outputs": [
    {
     "name": "stdout",
     "output_type": "stream",
     "text": [
      "Test accuracy: 39 %\n",
      "Test accuracy: 48 %\n",
      "Test accuracy: 48 %\n",
      "Test accuracy: 45 %\n",
      "Test accuracy: 50 %\n",
      "Test accuracy: 50 %\n",
      "Test accuracy: 52 %\n",
      "Test accuracy: 54 %\n",
      "Test accuracy: 54 %\n",
      "Test accuracy: 56 %\n"
     ]
    }
   ],
   "source": [
    "train_network(model, train_loader, criterion, optimizer)"
   ]
  },
  {
   "cell_type": "code",
   "execution_count": 40,
   "metadata": {},
   "outputs": [
    {
     "name": "stdout",
     "output_type": "stream",
     "text": [
      "Finished Training\n"
     ]
    }
   ],
   "source": [
    "print('Finished Training')"
   ]
  },
  {
   "cell_type": "code",
   "execution_count": 41,
   "metadata": {},
   "outputs": [
    {
     "name": "stdout",
     "output_type": "stream",
     "text": [
      "Test accuracy: 56 %\n"
     ]
    }
   ],
   "source": [
    "test_network(model, test_loader)"
   ]
  }
 ],
 "metadata": {
  "kernelspec": {
   "display_name": "tf",
   "language": "python",
   "name": "python3"
  },
  "language_info": {
   "codemirror_mode": {
    "name": "ipython",
    "version": 3
   },
   "file_extension": ".py",
   "mimetype": "text/x-python",
   "name": "python",
   "nbconvert_exporter": "python",
   "pygments_lexer": "ipython3",
   "version": "3.10.9"
  },
  "vscode": {
   "interpreter": {
    "hash": "87080e7cd9a8236934cf37ef16c9e0a38c6da99bf1ea92572cd195152db0d9e8"
   }
  }
 },
 "nbformat": 4,
 "nbformat_minor": 4
}
